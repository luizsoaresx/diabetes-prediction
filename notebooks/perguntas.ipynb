{
 "cells": [
  {
   "cell_type": "markdown",
   "id": "6d07d5ce",
   "metadata": {},
   "source": [
    "* Explique com suas palavras o que significa classificação supervisionada?"
   ]
  },
  {
   "cell_type": "markdown",
   "id": "1af7d38f",
   "metadata": {},
   "source": [
    "<span style=\"font-size: 12px\">Classificação supervisionada é uma técnica onde um modelo aprende por meio de associações com base em um conjunto de dados rotulados. O intuito é o modelo aprender por meio dos padrões encontrados no dataset durante o treinamento.</span>"
   ]
  },
  {
   "cell_type": "markdown",
   "id": "081ce872",
   "metadata": {},
   "source": [
    "* Qual é a importância de dividir o dataset em conjunto de treino e teste? "
   ]
  },
  {
   "cell_type": "markdown",
   "id": "67bc7a88",
   "metadata": {},
   "source": [
    "<span style=\"font-size: 12px\">A divisão do conjunto de dados em treino e teste é para garantir um desempenho realista, evitando que o modelo memorize informações. Quando separamos uma parte do conjunto para treino, “obrigamos” o modelo a reconhecer os padrões presentes nesses dados e depois avaliamos se ele consegue reconhecer padrões com a parte dos dados que ele não viu.</span>"
   ]
  },
  {
   "cell_type": "markdown",
   "id": "ce4d4b2c",
   "metadata": {},
   "source": [
    "* Qual a diferença entre Decision Tree e KNN em termos de funcionamento? "
   ]
  },
  {
   "cell_type": "markdown",
   "id": "8c8bdbb0",
   "metadata": {},
   "source": [
    "<span style=\"font-size: 12px\">Na árvore de decisão é formada uma estrutura hierárquica, onde cada dado de entrada é validado por uma série de nós para chegar em um resultado. Por exemplo, se o dado de entrada é uma fruta, a primeira pergunta do nó é se a fruta é vermelha, caso seja, ela passa para o próximo nó até chegar no resultado.\n",
    "Já o KNN é baseado em instâncias, ele faz predições com base nos vizinhos mais próximos, verificando quais pontos de treino são semelhantes ao ponto de teste.</span>"
   ]
  }
 ],
 "metadata": {
  "language_info": {
   "name": "python"
  }
 },
 "nbformat": 4,
 "nbformat_minor": 5
}
